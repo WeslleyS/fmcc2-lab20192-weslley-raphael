{
 "cells": [
  {
   "cell_type": "markdown",
   "metadata": {},
   "source": [
    "# Comparando registros de votação usando produto interno\n",
    "Neste projeto, nós iremos representar o registro de votação de um senador como um vetor sobre o $\\mathbb{R}$, e vamos usar produto interno para comparar tais registros.\n",
    "\n",
    "## 1. Motivação\n",
    "\n",
    "Estes são tempos difíceis, o cenário sociopolítico atual está em um estado de abjeção turbulenta. Neste laboratório, iremos usar vetores para avaliar objetivamente a mentalidade política dos senadores que nós representam. O registro de voto de cada senador será representado por um vetor, no qual cada elemento representa como o senador votou numa dada lei.\n",
    "\n",
    "A partir da diferença entre os \"vetores de votação\" de dois senadores, nós podemos dissipar a neblina da política e ver como nossos representantes se posicionam.\n",
    "\n",
    "## 2. Lendo o arquivo de dados\n",
    "\n",
    "A informação que precisamos para trabalhar virá armazenada num arquivo csv, separado por vírgula. E representa o registro de votação do [detalhar o arquivo de dados]. Cada linha representa o registro de votação de um senador distinto.\n",
    "\n",
    "Abaixo, você pode ver um exemplo de como ler e manipular um arquivo csv em Python:\n"
   ]
  },
  {
   "cell_type": "code",
   "execution_count": 17,
   "metadata": {},
   "outputs": [
    {
     "name": "stdout",
     "output_type": "stream",
     "text": [
      "Adicionar um exemplo em python de como ler o arquivo e manipular\n"
     ]
    }
   ],
   "source": [
    "print(\"Adicionar um exemplo em python de como ler o arquivo e manipular\")"
   ]
  },
  {
   "cell_type": "markdown",
   "metadata": {},
   "source": [
    "O posicionamento do senador quanto a uma determinada lei será representado por um valor do conjunto $P = \\{-1, 0, 1\\}$, onde 1 significa voto <strong>sim</strong>, -1 significa <strong>não</strong> e 0 significa <strong>abstenção</strong>."
   ]
  },
  {
   "cell_type": "markdown",
   "metadata": {},
   "source": [
    "## 3. Representando o Senador e o vetor de votação\n",
    "\n",
    "descrever a como vai ser feita a representação, uma classe Senador e uma classe Vetor? Onde Senador tem um Vetor votacao, e na classe Vetor são implementadas funções de um vetor?\n",
    "\n",
    "Uma possibilidade pode ser a seguinte"
   ]
  },
  {
   "cell_type": "code",
   "execution_count": 10,
   "metadata": {},
   "outputs": [
    {
     "name": "stdout",
     "output_type": "stream",
     "text": [
      "[1, 1, 1, 1]\n"
     ]
    }
   ],
   "source": [
    "class Senador:\n",
    "    \n",
    "    def __init__(self, nome, estado, partido, votos):\n",
    "        self.nome = nome\n",
    "        self.estado = estado\n",
    "        self.partido = partido\n",
    "        self.votos = votos\n",
    "\n",
    "marty = Senador(\"Marty McFly\", \"Future\", \"BTF\", [1,1,1,1])\n",
    "brown = Senador(\"Doc Brown\", \"Future\", \"BTF\", [0,1,1,-1])\n",
    "\n",
    "voting_dict = {'Marty McFly':marty, 'Doc Brown':brown}\n",
    "print(voting_dict['Marty McFly'].votos)"
   ]
  },
  {
   "cell_type": "markdown",
   "metadata": {},
   "source": [
    "## 4. Usando o produto interno para comparar vetores\n",
    "\n",
    "Suponha que $u$ e $v$ são dois vetores no $\\mathbb{R}^n$, cujas entradas pertencem ao conjunto $P$.\n",
    "\n",
    "Inicialmente, recordemos a definição de produto interno de dois vetores: $$u \\cdot v = \\sum_{i=1}^{n} u[i] \\cdot v[i]$$, com a definição em mente sigamos para dar interpretação a resposta.\n",
    "\n",
    "Considere a k-ésima entrada:\n",
    "* Se ambos $u[k]$ e $v[k]$ são 1, o termo corresponde da soma é 1. Se ambos são -1, o termo corresponde da soma é 1. Dessa forma, um termo da soma que é 1 indica concordância.\n",
    "* Se $u[k]$ e $v[k]$ tem sinais distintos, o termo corresponde da soma é -1. Assim, um termo na soma que é -1 indica discordância.\n",
    "* Se $u[k]$ e/ou $v[k]$ são 0, então o termo é zero, refletindo o fato de que estas entradas não proveem evidências de concordância ou discordância.\n",
    "\n",
    "Disso, podemos concluir que o produto interno de $u$ e $v$ é portanto uma medida de quão $u$ e $v$ estão em concordância."
   ]
  },
  {
   "cell_type": "markdown",
   "metadata": {},
   "source": [
    "## 5. Comparação de Políticas\n",
    "\n",
    "Nosso objetivo é determinar quão alinhados politicamente dois senadores estão. Para conseguirmos tal feito, usaremos produto interno para julgar quão frequentemente dois senadores estão em concordância.\n",
    "\n",
    "* **Tarefa 01:** Comparar o alinhamento de dois senadores, implementado a função descrita a seguir."
   ]
  },
  {
   "cell_type": "code",
   "execution_count": 18,
   "metadata": {},
   "outputs": [],
   "source": [
    "'''\n",
    "Tarefa 01 - Comparar o alinhamento de dois senadores\n",
    "A função abaixo recebe o nome de dois senadores e o\n",
    "dicionário mapeando o nome do senador com a lista\n",
    "representando seu registro de votação e retorna o\n",
    "produto interno representando o grau de similaridade\n",
    "entre a política de voto dos dois senadores dados.\n",
    "'''\n",
    "def compare(sen_a, sen_b, voting_dict):\n",
    "    raise NotImplementedError"
   ]
  },
  {
   "cell_type": "markdown",
   "metadata": {},
   "source": [
    "* **Tarefa 02:** Encontrar o senador mais similar com um senador dado, implementado a função descrita a seguir."
   ]
  },
  {
   "cell_type": "code",
   "execution_count": 19,
   "metadata": {},
   "outputs": [],
   "source": [
    "'''\n",
    "given the name of a senator and a dictionary mapping\n",
    "senator names to lists representing voting records,\n",
    "returns the name of the senator whose political\n",
    "mindset is most like the input senator\n",
    "(excluding, of course, the input senator him/herself).\n",
    "'''\n",
    "def most_similar(sen, voting_dict):\n",
    "    raise NotImplementedError"
   ]
  },
  {
   "cell_type": "markdown",
   "metadata": {},
   "source": [
    "* **Tarefa 03:** Encontrar o senador menos similar com um senador dado, implementado a função descrita a seguir."
   ]
  },
  {
   "cell_type": "code",
   "execution_count": 20,
   "metadata": {},
   "outputs": [],
   "source": [
    "'''\n",
    "given the name of a senator and a dictionary mapping\n",
    "senator names to lists representing voting records,\n",
    "returns the name of the senator whose voting record\n",
    "agrees the least with the senator whose\n",
    "name is sen.\n",
    "'''\n",
    "def least_similar(sen, voting_dict):\n",
    "    raise NotImplementedError"
   ]
  },
  {
   "cell_type": "markdown",
   "metadata": {},
   "source": [
    "## 6. Comparações envolvendo partidos"
   ]
  },
  {
   "cell_type": "markdown",
   "metadata": {},
   "source": [
    "## 7. Rivalidades e amizades"
   ]
  },
  {
   "cell_type": "markdown",
   "metadata": {},
   "source": [
    "## 8. Algumas questões"
   ]
  }
 ],
 "metadata": {
  "kernelspec": {
   "display_name": "Python 3",
   "language": "python",
   "name": "python3"
  },
  "language_info": {
   "codemirror_mode": {
    "name": "ipython",
    "version": 3
   },
   "file_extension": ".py",
   "mimetype": "text/x-python",
   "name": "python",
   "nbconvert_exporter": "python",
   "pygments_lexer": "ipython3",
   "version": "3.5.2"
  }
 },
 "nbformat": 4,
 "nbformat_minor": 2
}
