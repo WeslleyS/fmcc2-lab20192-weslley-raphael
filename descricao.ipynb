{
 "cells": [
  {
   "cell_type": "markdown",
   "metadata": {},
   "source": [
    "# Comparando registros de votação usando produto interno\n",
    "Neste projeto, nós iremos representar o registro de votação de um senador como um vetor sobre o $\\mathbb{R}$, e vamos usar produto interno para comparar tais registros.\n",
    "\n",
    "## 1. Motivação\n",
    "\n",
    "Estes são tempos difíceis, o cenário sociopolítico atual está em um estado de abjeção turbulenta. Neste laboratório, iremos usar vetores para avaliar objetivamente a mentalidade política dos senadores que nós representam. O registro de voto de cada senador será representado por um vetor, no qual cada elemento representa como o senador votou numa dada lei.\n",
    "\n",
    "A partir da diferença entre os \"vetores de votação\" de dois senadores, nós podemos dissipar a neblina da política e ver como nossos representantes se posicionam.\n",
    "\n",
    "## 2. Lendo o arquivo de dados\n",
    "\n",
    "A informação que precisamos para trabalhar virá armazenada num arquivo csv, separado por vírgula. E representa o registro de votação de senadores brasileiros entre os anos de 2015 e 2018 para algumas votações. Cada linha representa o registro de votação de um senador distinto. O arquivo de dados está disponível [aqui](data).\n",
    "\n",
    "Abaixo, você pode ver um exemplo de como ler e manipular um arquivo csv em Python. Isto já esta pronto e pode ser encontrado [aqui](src/file_reader.py)."
   ]
  },
  {
   "cell_type": "code",
   "execution_count": 73,
   "metadata": {},
   "outputs": [
    {
     "name": "stdout",
     "output_type": "stream",
     "text": [
      "['Marty McFly', 'Doc Brown']\n",
      "['Future', 'Future']\n",
      "['BTF', 'BTF']\n",
      "[[1, 1, 1, 1], [0, 1, 1, -1]]\n"
     ]
    }
   ],
   "source": [
    "import csv\n",
    "\n",
    "file = open('data/exemplo.csv', 'r')\n",
    "csv_file = csv.reader(file)\n",
    "\n",
    "sen_nomes = []\n",
    "sen_estados = []\n",
    "sen_partidos = []\n",
    "sen_votos = []\n",
    "\n",
    "for row in csv_file:\n",
    "    sen_nomes.append(row[0])\n",
    "    sen_estados.append(row[1])\n",
    "    sen_partidos.append(row[2])\n",
    "    sen_votos.append(list(map(int, row[3:len(row)])))\n",
    "\n",
    "print(sen_nomes)\n",
    "print(sen_estados)\n",
    "print(sen_partidos)\n",
    "print(sen_votos)\n",
    "    "
   ]
  },
  {
   "cell_type": "markdown",
   "metadata": {},
   "source": [
    "O posicionamento do senador quanto a uma determinada lei será representado por um valor do conjunto $P = \\{-1, 0, 1\\}$, onde 1 significa voto <strong>sim</strong>, -1 significa <strong>não</strong> e 0 significa <strong>abstenção</strong>."
   ]
  },
  {
   "cell_type": "markdown",
   "metadata": {},
   "source": [
    "## 3. Representando um vetor\n",
    "\n",
    "Sua primeira tarefa neste laboratório será implementar as funções da classe Vetor, que está disponível [aqui](src/vetor.py), e descrita abaixo.\n",
    "\n",
    "* **Tarefa 01:** Implementar as seguintes funções na classe Vetor\n",
    "\n",
    "        - Adição entre vetores\n",
    "        - Produto por escalar\n",
    "        - Produto interno\n",
    "        - Igualdade entre vetores"
   ]
  },
  {
   "cell_type": "code",
   "execution_count": 74,
   "metadata": {},
   "outputs": [],
   "source": [
    "#coding: utf-8\n",
    "\n",
    "class Vetor:\n",
    "    \n",
    "    '''\n",
    "    Inicializa o vetor a partir de uma lista.\n",
    "    '''\n",
    "    def __init__(self, lista):\n",
    "        self.entradas = lista\n",
    "        self.size = len(lista)\n",
    "    \n",
    "    '''\n",
    "    Retorna a dimensão do vetor.\n",
    "    '''\n",
    "    def __len__(self):\n",
    "        return self.size\n",
    "    \n",
    "    '''\n",
    "    Retorna o item numa dada posição.\n",
    "    '''\n",
    "    def __getitem__(self, index):\n",
    "        return self.entradas[index]\n",
    "    \n",
    "    '''\n",
    "    Implementa a operação de soma entre vetores.\n",
    "    Deve retornar um objeto da classe Vetor representando o resultado da operação.\n",
    "    Você pode assumir que ambos os vetores têm a mesma dimensão.\n",
    "    '''\n",
    "    def __add__(self, vetor):\n",
    "        raise NotImplementedError\n",
    "    \n",
    "    def __radd__(self, vetor):\n",
    "        return self.__add__(vetor)\n",
    "    \n",
    "    '''\n",
    "    Implementa a operação de multiplicação por escalar e o produto interno.\n",
    "    Você pode assumir que ambos os vetores têm a mesma dimensão.\n",
    "    Deve retornar:\n",
    "     - um objeto da classe Vetor representando o vetor resultante, caso mult seja escalar\n",
    "     - um escalar com o valor do produto interno caso mult seja outro vetor.\n",
    "    '''\n",
    "    def __mul__(self, mult):\n",
    "        \n",
    "        '''\n",
    "        Implementa a multiplicação por escalar\n",
    "        '''\n",
    "        if isinstance(mult, float) or isinstance(mult, int):\n",
    "            raise NotImplementedError\n",
    "        \n",
    "        '''\n",
    "        Implementa o produto vetorial\n",
    "        '''\n",
    "        if isinstance(mult, Vetor):\n",
    "            raise NotImplementedError\n",
    "    \n",
    "    def __rmul__(self, mult):\n",
    "        return self.__mul__(mult)\n",
    "    \n",
    "    '''\n",
    "    Implementa a subtração.\n",
    "    '''\n",
    "    def __sub__(self, vetor):\n",
    "        return self.__add__(vetor * -1)\n",
    "    \n",
    "    def __rsub__(self, vetor):\n",
    "        return vetor.__sub__(self)\n",
    "    \n",
    "    '''\n",
    "    Implementa a divisão por escalar.\n",
    "    '''\n",
    "    def __truediv__(self, fator):\n",
    "        return self.__mul__(1.0/fator);\n",
    "    \n",
    "    '''\n",
    "    Implementa a igualdade entre vetores\n",
    "    Deve retornar True caso sejam iguais e False caso sejam diferentes.\n",
    "    '''\n",
    "    def __eq__(self, vetor):\n",
    "        raise NotImplementedError\n",
    "    \n",
    "    def __neq__(self, vetor):\n",
    "        return not self.__eq__(vetor)\n",
    "    \n",
    "    '''\n",
    "    Implementa uma representação textual para o vetor.\n",
    "    '''\n",
    "    def __str__(self):\n",
    "        return \"Vetor\" + str(self.entradas)"
   ]
  },
  {
   "cell_type": "markdown",
   "metadata": {},
   "source": [
    "## 4. Representando o Senador\n",
    "\n",
    "A classe Senador está disponível [aqui](src/senador.py) e descrita abaixo. Ela já está totalmente implementada, você deverá apenas utilizá-la como no exemplo abaixo. Abaixo segue ainda um exemplo de como o dicionário *senadores* funciona."
   ]
  },
  {
   "cell_type": "code",
   "execution_count": 75,
   "metadata": {},
   "outputs": [
    {
     "name": "stdout",
     "output_type": "stream",
     "text": [
      "[1, 1, 1, 1]\n"
     ]
    }
   ],
   "source": [
    "#coding: utf-8\n",
    "\n",
    "class Senador:\n",
    "    \n",
    "    def __init__(self, nome, estado, partido, votos):\n",
    "        self.nome = nome\n",
    "        self.estado = estado\n",
    "        self.partido = partido\n",
    "        self.votos = votos\n",
    "    \n",
    "    def __str__(self):\n",
    "        return self.nome + \", \" + self.estado + \", \" + self.partido\n",
    "\n",
    "senadores = {}    \n",
    "\n",
    "for i in range(len(sen_nomes)):\n",
    "    senadores[sen_nomes[i]] = Senador(sen_nomes[i], sen_estados[i], sen_partidos[i], sen_votos[i])\n",
    "    \n",
    "print(senadores['Marty McFly'].votos)"
   ]
  },
  {
   "cell_type": "markdown",
   "metadata": {},
   "source": [
    "## 5. Usando o produto interno para comparar vetores\n",
    "\n",
    "Suponha que $u$ e $v$ são dois vetores no $\\mathbb{R}^n$, cujas entradas pertencem ao conjunto $P$.\n",
    "\n",
    "Inicialmente, recordemos a definição de produto interno de dois vetores: $$u \\cdot v = \\sum_{i=1}^{n} u[i] \\cdot v[i]$$, com a definição em mente sigamos para dar interpretação a resposta.\n",
    "\n",
    "Considere a k-ésima entrada:\n",
    "* Se ambos $u[k]$ e $v[k]$ são 1, o termo corresponde da soma é 1. Se ambos são -1, o termo corresponde da soma é 1. Dessa forma, um termo da soma que é 1 indica concordância.\n",
    "* Se $u[k]$ e $v[k]$ tem sinais distintos, o termo corresponde da soma é -1. Assim, um termo na soma que é -1 indica discordância.\n",
    "* Se $u[k]$ e/ou $v[k]$ são 0, então o termo é zero, refletindo o fato de que estas entradas não proveem evidências de concordância ou discordância.\n",
    "\n",
    "Disso, podemos concluir que o produto interno de $u$ e $v$ é portanto uma medida de quão $u$ e $v$ estão em concordância."
   ]
  },
  {
   "cell_type": "markdown",
   "metadata": {},
   "source": [
    "## 6. Comparação de Políticas\n",
    "\n",
    "Nosso objetivo é determinar quão alinhados politicamente dois senadores estão. Para conseguirmos tal feito, usaremos produto interno para julgar quão frequentemente dois senadores estão em concordância.\n",
    "\n",
    "* **Tarefa 02:** Comparar o alinhamento de dois senadores, implementado a função descrita a seguir."
   ]
  },
  {
   "cell_type": "code",
   "execution_count": 76,
   "metadata": {},
   "outputs": [],
   "source": [
    "'''\n",
    "Tarefa 02 - Comparar o alinhamento de dois senadores\n",
    "A função abaixo recebe o nome de dois senadores e o\n",
    "dicionário mapeando o nome do senador com seu objeto\n",
    "da classe Senador, e retornar o produto interno representando\n",
    "o grau de similaridade entre a política de voto dos dois senadores dados.\n",
    "'''\n",
    "def comparar(sen_a, sen_b, senadores):\n",
    "    raise NotImplementedError"
   ]
  },
  {
   "cell_type": "markdown",
   "metadata": {},
   "source": [
    "* **Tarefa 03:** Encontrar o senador mais similar com um senador dado, implementado a função descrita a seguir."
   ]
  },
  {
   "cell_type": "code",
   "execution_count": 77,
   "metadata": {},
   "outputs": [],
   "source": [
    "'''\n",
    "Tarefa 03 - Encontrar o senador mais similar com um senador dado\n",
    "A função deve receber o nome de um senador e o dicionário mapeando\n",
    "o nome do senador com seu objeto da classe Senador, e o nome do senador \n",
    "mais similar ao que foi dado como entrada. No caso, de haver mais de um\n",
    "senador com o grau de similaridade máxima, todos os nomes devem ser retornados\n",
    "em uma lista.\n",
    "'''\n",
    "def mais_similar(sen, senadores):\n",
    "    raise NotImplementedError"
   ]
  },
  {
   "cell_type": "markdown",
   "metadata": {},
   "source": [
    "* **Tarefa 04:** Encontrar o senador menos similar com um senador dado, implementado a função descrita a seguir."
   ]
  },
  {
   "cell_type": "code",
   "execution_count": 78,
   "metadata": {},
   "outputs": [],
   "source": [
    "'''\n",
    "Tarefa 04 - Encontrar o senador menos similar com um senador dado\n",
    "Similar a tarefa 03, porém deve retornar o nome do senador menos similar\n",
    "ou uma lista com todos os nomes, em caso de empate.\n",
    "'''\n",
    "def menos_similar(sen, senadores):\n",
    "    raise NotImplementedError"
   ]
  },
  {
   "cell_type": "markdown",
   "metadata": {},
   "source": [
    "## 7. Comparações envolvendo conjuntos\n",
    "\n",
    "Neste momento, já somos capazes de fazer comparações entre dois senadores. Agora, sua tarefa envolverá avaliar similaridade entre um senador e um conjunto de senadores.\n",
    "\n",
    "* **Tarefa 05:** Implementar a função encontra_similaridade_media(sen, sen_set, senadores) que, dado o nome de um senador, compara seu registro de votos com o registro de votos com todos os senadores cujos nomes estão em sen_set, computando um produto interno para cada, e então retornando o produto interno médio."
   ]
  },
  {
   "cell_type": "code",
   "execution_count": 79,
   "metadata": {},
   "outputs": [],
   "source": [
    "'''\n",
    "Tarefa 05 - Implementar a função encontra_similaridade_media(sen, sen_set, senadores)\n",
    "que, dado o nome de um senador, compara seu registro de votos com o registro de votos\n",
    "com todos os senadores cujos nomes estão em sen_set, computando um produto interno para\n",
    "cada, e então retornando o produto interno médio.\n",
    "'''\n",
    "def encontra_similaridade_media(sen, sen_set, senadores):\n",
    "    raise NotImplementedError"
   ]
  },
  {
   "cell_type": "markdown",
   "metadata": {},
   "source": [
    "Reflita um pouco sobre o procedimento implementado acima! Você acha que ele poderia ser otimizado de alguma maneira? Talvez utilizando alguma propriedade do produto interno? Vamos relembrar, brevemente, uma propriedade muito importante do produto interno.\n",
    "\n",
    "**Propriedade Distributiva:**\n",
    "Sejam $u$, $v$ e $w$ vetores no $\\mathbb{R}^n$, temos que $u \\cdot (v + w) = u \\cdot v + u \\cdot w$.\n",
    "\n",
    "Diante disto, você consegue ver uma outra forma de implementar a função a acima?\n",
    "\n",
    "* **Tarefa 06:** Implemente a função encontra_registro_medio(sen set, voting dict) que, dado um conjunto com o nome dos senadores, encontre a média do registro de votação. Isto é, realize adição vetorial na listas representando o registro de suas votações, e então divida a soma pelo número de vetores. O resultado deve ser um vetor."
   ]
  },
  {
   "cell_type": "code",
   "execution_count": 80,
   "metadata": {},
   "outputs": [],
   "source": [
    "'''\n",
    "Tarefa 06 - Implemente a função encontra_registro_medio(sen set, voting dict) que,\n",
    "dado um conjunto com o nome dos senadores, encontre a média do registro de votação.\n",
    "Isto é, realize adição vetorial na listas representando o registro de suas votações,\n",
    "e então divida a soma pelo número de vetores. O resultado deve ser um vetor.\n",
    "'''\n",
    "def encontra_registro_medio(sen_set, senadores):\n",
    "    raise NotImplementedError"
   ]
  },
  {
   "cell_type": "markdown",
   "metadata": {},
   "source": [
    "Utilizando essa função, iremos criar outras derivadas, como descrito abaixo:\n",
    "\n",
    "* **Tarefa 07** Implemente as funções a seguir:\n",
    "    - registro_medio_partido(partido, senadores) que, dado o nome de um partido encontra o registro médio de votação deste partido;\n",
    "    - registro_medio_estado(estado, senadores) que, dado o nome de um estado do Brasil encontra o registro médio de votação deste estado;\n",
    "    - registro_medio_regiao(regiao, senadores) que, dada o nome de uma região do Brasil encontra o registro médio de votação desta região."
   ]
  },
  {
   "cell_type": "code",
   "execution_count": 81,
   "metadata": {},
   "outputs": [],
   "source": [
    "'''\n",
    "Tarefa 07 - Implemente as funções a seguir\n",
    "- registro_medio_partido(partido, senadores) que, dado o nome de um partido \n",
    "  encontra o registro médio de votação deste partido;\n",
    "- registro_medio_estado(estado, senadores) que, dado o nome de um estado do\n",
    "  Brasil encontra o registro médio de votação deste estado;\n",
    "- registro_medio_regiao(regiao, senadores) que, dada o nome de uma região do\n",
    "  Brasil encontra o registro médio de votação desta região.\n",
    "\n",
    "O retorno de todas as funções descritas nesta tarefa deve ser um vetor.\n",
    "'''\n",
    "\n",
    "def registro_medio_partido(partido, senadores):\n",
    "    raise NotImplementedError\n",
    "    \n",
    "def registro_medio_estado(estado, senadores):\n",
    "    raise NotImplementedError\n",
    "    \n",
    "def registro_medio_regiao(regiao, senadores):\n",
    "    raise NotImplementedError"
   ]
  },
  {
   "cell_type": "markdown",
   "metadata": {},
   "source": [
    "De posse das funções criadas na **Tarefa 07**, iremos implementar mais algumas, derivadas destas.\n",
    "\n",
    "* **Tarefa 08:** Implemente as funções a seguir:\n",
    "    - similaridade_no_partido(sen, senadores) que, dado o nome de um senador encontra o grau de similaridade dele com seu partido.\n",
    "    - similaridade_no_estado(sen, senadores) que, dado o nome de um senador encontra o grau de similaridade dele com seu estado.\n",
    "    - similaridade_na_regiao(sen, senadores) que, dado o nome de um senador encontra o grau de similaridade dele com sua regiao.\n",
    "    - encontra_mais_alinhado_partido(partido, senadores) que, dado o nome de um partido encontra o senador mais similar ao partido"
   ]
  },
  {
   "cell_type": "code",
   "execution_count": 82,
   "metadata": {},
   "outputs": [],
   "source": [
    "'''\n",
    "Tarefa 08 - Implemente as funções a seguir:\n",
    "- similaridade_no_partido(sen, senadores) que,\n",
    "  dado o nome de um senador encontra o grau de similaridade dele com seu partido.\n",
    "- similaridade_no_estado(sen, senadores) que,\n",
    "  dado o nome de um senador encontra o grau de similaridade dele com seu estado.\n",
    "- similaridade_na_regiao(sen, senadores) que,\n",
    "  dado o nome de um senador encontra o grau de similaridade dele com sua regiao.\n",
    "  \n",
    "Para as funções acima o retorno deve ser uma lista contendo o nome do senador e seu respectivo\n",
    "grau de similaridade.\n",
    "\n",
    "- encontra_mais_alinhado_partido(partido, senadores) que,\n",
    "  dado o nome de um partido encontra o senador mais similar ao partido.\n",
    "  \n",
    "Para esta última o retorno deve ser o nome do senador.\n",
    "'''\n",
    "\n",
    "def similaridade_no_partido(sen, senadores):\n",
    "    raise NotImplementedError\n",
    "\n",
    "def similaridade_no_estado(sen, senadores):\n",
    "    raise NotImplementedError\n",
    "\n",
    "def similaridade_na_regiao(sen, senadores):\n",
    "    raise NotImplementedError\n",
    "\n",
    "def encontra_mais_alinhado_partido(partido, senadores):\n",
    "    raise NotImplementedError"
   ]
  },
  {
   "cell_type": "markdown",
   "metadata": {},
   "source": [
    "## 8. Rivalidades e amizades\n",
    "\n",
    "Voltaremos agora a comparação senadores entre sim, desta vez queremos encontrar os dois senadores mais alinhados, bem como os dois menos alinhados.\n",
    "\n",
    "* **Tarefa 09:** Implemente as funções a seguir:\n",
    "    - rivais_amargos(senadores) que encontra os dois senadores menos similares do conjunto inteiro.\n",
    "    - amigos_adocicados(senadores) que encontra os dois senadores mais similares do conjunto inteiro."
   ]
  },
  {
   "cell_type": "code",
   "execution_count": 83,
   "metadata": {},
   "outputs": [],
   "source": [
    "'''\n",
    "Tarefa 09 - Implemente as funções a seguir:\n",
    "- rivais_amargos(senadores) que encontra os dois senadores menos similares do conjunto inteiro.\n",
    "- amigos_adocicados(senadores) que encontra os dois senadores mais similares do conjunto inteiro.\n",
    "\n",
    "O retorno deve ser uma lista contendo os nomes dos dois senadores.\n",
    "'''\n",
    "\n",
    "def rivais_amargos(senadores):\n",
    "    raise NotImplementedError\n",
    "\n",
    "def amigos_adocicados(senadores):\n",
    "    raise NotImplementedError"
   ]
  },
  {
   "cell_type": "markdown",
   "metadata": {},
   "source": [
    "Por fim, iremos lidar com similaridade dentro de um partido.\n",
    "\n",
    "* **Tarefa 10:** Implemente as funções a seguir:\n",
    "    - encontra_partido_mais_coerente(senadores) que encontra o partido cujos congressistas são mais similares entre si, ou seja, cuja média das similaridades entre cada senador é a maior.\n",
    "    - encontra_partido_menos_coerente(senadores) que encontra o partido cujos congressistas são menos similares entre si, ou seja, cuja média das similaridades entre cada senador é a menor."
   ]
  },
  {
   "cell_type": "code",
   "execution_count": 84,
   "metadata": {},
   "outputs": [],
   "source": [
    "'''\n",
    "Tarefa 10 - Implemente as funções a seguir:\n",
    "- encontra_partido_mais_coerente(senadores) que encontra o partido\n",
    "  cujos congressistas são mais similares entre si, ou seja, cuja média das\n",
    "  similaridades entre cada senador é a maior.\n",
    "- encontra_partido_menos_coerente(senadores) que encontra o partido\n",
    "  cujos congressistas são menos similares entre si, ou seja, cuja média das\n",
    "  similaridades entre cada senador é a menor.\n",
    "  \n",
    "O retorno, para ambas, deve ser o nome do partido.\n",
    "'''\n",
    "\n",
    "def encontra_partido_mais_coerente(senadores):\n",
    "    raise NotImplementedError\n",
    "    \n",
    "def encontra_partido_menos_coerente(senadores):\n",
    "    raise NotImplementedError"
   ]
  },
  {
   "cell_type": "markdown",
   "metadata": {},
   "source": [
    "## 8. Algumas observações\n",
    "\n",
    "* Para saber como copiar este repositório para você, consulte o [README](README.md)\n",
    "* As funções descritas nas tarefas 2 a 10, devem ser implementadas [aqui](src/main.py).\n",
    "* Você poderá criar variáveis globais, bem como funções auxiliares se achar necessário.\n",
    "* É estritamente proibido mudar o nome e/ou a assinatura das funções descritas acima, uma vez que a correção será feita de forma automática, e tais mudanças irão comprometer a correção.\n",
    "* O arquivo de dados está disponível [aqui](data).\n",
    "* Para detalhes de como submeter, consulte o [tutorial](submissao.md).\n",
    "* É recomendado que você realize testes antes de submeter, você pode implementar seus testes [aqui](src/my_tests.py)."
   ]
  }
 ],
 "metadata": {
  "kernelspec": {
   "display_name": "Python 3",
   "language": "python",
   "name": "python3"
  },
  "language_info": {
   "codemirror_mode": {
    "name": "ipython",
    "version": 3
   },
   "file_extension": ".py",
   "mimetype": "text/x-python",
   "name": "python",
   "nbconvert_exporter": "python",
   "pygments_lexer": "ipython3",
   "version": "3.5.2"
  }
 },
 "nbformat": 4,
 "nbformat_minor": 2
}
